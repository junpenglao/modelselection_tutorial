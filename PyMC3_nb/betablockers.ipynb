{
 "cells": [
  {
   "cell_type": "markdown",
   "metadata": {},
   "source": [
    "# Bayesian data analysis - beta blocker cross-validation demo\n",
    "\n",
    "Demonstration of simple model we trust. In this case, cross-validation is not needed and we can get better accuracy using the explicit model.\n",
    "\n",
    "Import libraries"
   ]
  },
  {
   "cell_type": "code",
   "execution_count": 1,
   "metadata": {},
   "outputs": [
    {
     "name": "stdout",
     "output_type": "stream",
     "text": [
      "Runing on PyMC3 v3.3\n"
     ]
    },
    {
     "name": "stderr",
     "output_type": "stream",
     "text": [
      "/usr/local/lib/python3.5/dist-packages/h5py/__init__.py:36: FutureWarning: Conversion of the second argument of issubdtype from `float` to `np.floating` is deprecated. In future, it will be treated as `np.float64 == np.dtype(float).type`.\n",
      "  from ._conv import register_converters as _register_converters\n"
     ]
    }
   ],
   "source": [
    "%matplotlib inline\n",
    "import pymc3 as pm\n",
    "import numpy as np\n",
    "import pandas as pd\n",
    "import matplotlib.pyplot as plt\n",
    "\n",
    "plt.style.use('seaborn-darkgrid')\n",
    "print('Runing on PyMC3 v{}'.format(pm.__version__))"
   ]
  },
  {
   "cell_type": "markdown",
   "metadata": {},
   "source": [
    "### Comparison of two groups with Binomial\n",
    "\n",
    "An experiment was performed to estimate the effect of beta-blockers on mortality of cardiac patients (this example is used also in BDA3 chapter 3). A group of patients were randomly assigned to treatment and control groups:\n",
    "\n",
    "- out of 674 patients receiving the control, 39 died\n",
    "- out of 680 receiving the treatment, 22 died\n"
   ]
  },
  {
   "cell_type": "code",
   "execution_count": 2,
   "metadata": {},
   "outputs": [
    {
     "data": {
      "text/html": [
       "<div>\n",
       "<style scoped>\n",
       "    .dataframe tbody tr th:only-of-type {\n",
       "        vertical-align: middle;\n",
       "    }\n",
       "\n",
       "    .dataframe tbody tr th {\n",
       "        vertical-align: top;\n",
       "    }\n",
       "\n",
       "    .dataframe thead th {\n",
       "        text-align: right;\n",
       "    }\n",
       "</style>\n",
       "<table border=\"1\" class=\"dataframe\">\n",
       "  <thead>\n",
       "    <tr style=\"text-align: right;\">\n",
       "      <th></th>\n",
       "      <th>N</th>\n",
       "      <th>grp2</th>\n",
       "      <th>y</th>\n",
       "    </tr>\n",
       "  </thead>\n",
       "  <tbody>\n",
       "    <tr>\n",
       "      <th>0</th>\n",
       "      <td>674</td>\n",
       "      <td>0</td>\n",
       "      <td>39</td>\n",
       "    </tr>\n",
       "    <tr>\n",
       "      <th>1</th>\n",
       "      <td>680</td>\n",
       "      <td>1</td>\n",
       "      <td>22</td>\n",
       "    </tr>\n",
       "  </tbody>\n",
       "</table>\n",
       "</div>"
      ],
      "text/plain": [
       "     N  grp2   y\n",
       "0  674     0  39\n",
       "1  680     1  22"
      ]
     },
     "execution_count": 2,
     "metadata": {},
     "output_type": "execute_result"
    }
   ],
   "source": [
    "d_bin2 = pd.DataFrame(dict(N = np.asarray([674, 680]),\n",
    "                           y = np.asarray([39,22]),\n",
    "                           grp2 = np.asarray([0,1])))\n",
    "\n",
    "d_bin2"
   ]
  },
  {
   "cell_type": "markdown",
   "metadata": {},
   "source": [
    "To match the priors used in rstanarm, we specify the prior below:"
   ]
  },
  {
   "cell_type": "code",
   "execution_count": 3,
   "metadata": {},
   "outputs": [
    {
     "name": "stderr",
     "output_type": "stream",
     "text": [
      "Auto-assigning NUTS sampler...\n",
      "Initializing NUTS using jitter+adapt_diag...\n",
      "Multiprocess sampling (4 chains in 4 jobs)\n",
      "NUTS: [grp2, Intercept]\n",
      "100%|██████████| 2000/2000 [00:01<00:00, 1200.41it/s]\n",
      "INFO (theano.gof.compilelock): Waiting for existing lock by process '4973' (I am process '4974')\n",
      "INFO (theano.gof.compilelock): To manually release the lock, delete /home/laoj/.theano/compiledir_Linux-4.4--generic-x86_64-with-Ubuntu-16.04-xenial-x86_64-3.5.2-64/lock_dir\n",
      "INFO (theano.gof.compilelock): Waiting for existing lock by process '4973' (I am process '4975')\n",
      "INFO (theano.gof.compilelock): To manually release the lock, delete /home/laoj/.theano/compiledir_Linux-4.4--generic-x86_64-with-Ubuntu-16.04-xenial-x86_64-3.5.2-64/lock_dir\n",
      "INFO (theano.gof.compilelock): Waiting for existing lock by process '4974' (I am process '4975')\n",
      "INFO (theano.gof.compilelock): To manually release the lock, delete /home/laoj/.theano/compiledir_Linux-4.4--generic-x86_64-with-Ubuntu-16.04-xenial-x86_64-3.5.2-64/lock_dir\n",
      "The acceptance probability does not match the target. It is 0.8844568052974987, but should be close to 0.8. Try to increase the number of tuning steps.\n"
     ]
    }
   ],
   "source": [
    "family = pm.glm.families.Binomial(priors = {'n': np.asarray(d_bin2['N'])})\n",
    "with pm.Model() as glm1:\n",
    "    pm.glm.GLM.from_formula(\n",
    "        'y ~ grp2', data=d_bin2,\n",
    "        priors=dict(Intercept=pm.Normal.dist(mu=0, sd=10),\n",
    "                    grp2=pm.Normal.dist(mu=0, sd=2.5)),\n",
    "        family=family,\n",
    "              )\n",
    "    trace = pm.sample(1000, tune=1000, cores=4)"
   ]
  },
  {
   "cell_type": "code",
   "execution_count": 4,
   "metadata": {},
   "outputs": [],
   "source": [
    "# import patsy\n",
    "# y, x = patsy.dmatrices('y ~ grp2', d_bin2)\n",
    "# labels = x.design_info.column_names\n",
    "# y = np.asarray(y.flatten())\n",
    "# x = np.asarray(x)\n",
    "\n",
    "# with pm.Model() as glm1:\n",
    "#     pm.glm.GLM(x, y, labels=labels, intercept=False,\n",
    "#                priors=dict(Intercept=pm.Normal.dist(mu=0, sd=10),\n",
    "#                            grp2=pm.Normal.dist(mu=0, sd=2.5)),\n",
    "#                family=famil,\n",
    "#               )\n",
    "#     trace = pm.sample(1000, tune=1000, cores=4)"
   ]
  },
  {
   "cell_type": "code",
   "execution_count": 5,
   "metadata": {},
   "outputs": [
    {
     "data": {
      "text/html": [
       "<div>\n",
       "<style scoped>\n",
       "    .dataframe tbody tr th:only-of-type {\n",
       "        vertical-align: middle;\n",
       "    }\n",
       "\n",
       "    .dataframe tbody tr th {\n",
       "        vertical-align: top;\n",
       "    }\n",
       "\n",
       "    .dataframe thead th {\n",
       "        text-align: right;\n",
       "    }\n",
       "</style>\n",
       "<table border=\"1\" class=\"dataframe\">\n",
       "  <thead>\n",
       "    <tr style=\"text-align: right;\">\n",
       "      <th></th>\n",
       "      <th>mean</th>\n",
       "      <th>sd</th>\n",
       "      <th>mc_error</th>\n",
       "      <th>hpd_2.5</th>\n",
       "      <th>hpd_97.5</th>\n",
       "      <th>n_eff</th>\n",
       "      <th>Rhat</th>\n",
       "    </tr>\n",
       "  </thead>\n",
       "  <tbody>\n",
       "    <tr>\n",
       "      <th>Intercept</th>\n",
       "      <td>-2.806813</td>\n",
       "      <td>0.169225</td>\n",
       "      <td>0.004226</td>\n",
       "      <td>-3.136245</td>\n",
       "      <td>-2.482637</td>\n",
       "      <td>1771.109205</td>\n",
       "      <td>1.000127</td>\n",
       "    </tr>\n",
       "    <tr>\n",
       "      <th>grp2</th>\n",
       "      <td>-0.600788</td>\n",
       "      <td>0.275768</td>\n",
       "      <td>0.006728</td>\n",
       "      <td>-1.122237</td>\n",
       "      <td>-0.055517</td>\n",
       "      <td>1661.172606</td>\n",
       "      <td>1.000337</td>\n",
       "    </tr>\n",
       "  </tbody>\n",
       "</table>\n",
       "</div>"
      ],
      "text/plain": [
       "               mean        sd  mc_error   hpd_2.5  hpd_97.5        n_eff  \\\n",
       "Intercept -2.806813  0.169225  0.004226 -3.136245 -2.482637  1771.109205   \n",
       "grp2      -0.600788  0.275768  0.006728 -1.122237 -0.055517  1661.172606   \n",
       "\n",
       "               Rhat  \n",
       "Intercept  1.000127  \n",
       "grp2       1.000337  "
      ]
     },
     "execution_count": 5,
     "metadata": {},
     "output_type": "execute_result"
    }
   ],
   "source": [
    "pm.summary(trace)"
   ]
  },
  {
   "cell_type": "code",
   "execution_count": 6,
   "metadata": {},
   "outputs": [
    {
     "data": {
      "image/png": "[encoded data removed]",
      "text/plain": [
       "<matplotlib.figure.Figure at 0x7f9c55e1d748>"
      ]
     },
     "metadata": {},
     "output_type": "display_data"
    }
   ],
   "source": [
    "pm.traceplot(trace);"
   ]
  },
  {
   "cell_type": "code",
   "execution_count": 7,
   "metadata": {},
   "outputs": [
    {
     "data": {
      "image/png": "[encoded data removed]",
      "text/plain": [
       "<matplotlib.figure.Figure at 0x7f9c55da7d68>"
      ]
     },
     "metadata": {},
     "output_type": "display_data"
    }
   ],
   "source": [
    "from scipy.stats import logistic\n",
    "theta1 = logistic.pdf(trace['Intercept'])\n",
    "theta2 = logistic.pdf(trace['Intercept'] + trace['grp2'])\n",
    "oddsratio = (theta2/(1-theta2))/(theta1/(1-theta1))\n",
    "plt.hist(oddsratio, 100);"
   ]
  },
  {
   "cell_type": "code",
   "execution_count": 8,
   "metadata": {},
   "outputs": [
    {
     "name": "stdout",
     "output_type": "stream",
     "text": [
      "The probability that odds-ratio is less than 1: 0.98\n"
     ]
    }
   ],
   "source": [
    "print('The probability that odds-ratio is less than 1: %.2f'%np.mean(oddsratio<1))"
   ]
  },
  {
   "cell_type": "markdown",
   "metadata": {},
   "source": [
    "Demonstrate one of the weakneses of cross-validation (same holds for WAIC etc):"
   ]
  },
  {
   "cell_type": "code",
   "execution_count": 9,
   "metadata": {},
   "outputs": [],
   "source": [
    "d_bin2 =pd.DataFrame(dict(N = 674+680,\n",
    "                          y = np.hstack((np.ones(39), np.zeros(674-39), \n",
    "                                         np.ones(22), np.zeros(680-22))),\n",
    "                          grp2 = np.hstack((np.zeros(674), np.ones(680)))))"
   ]
  },
  {
   "cell_type": "code",
   "execution_count": 10,
   "metadata": {},
   "outputs": [
    {
     "name": "stderr",
     "output_type": "stream",
     "text": [
      "Auto-assigning NUTS sampler...\n",
      "Initializing NUTS using jitter+adapt_diag...\n",
      "Multiprocess sampling (4 chains in 4 jobs)\n",
      "NUTS: [grp2, Intercept]\n",
      "100%|██████████| 2000/2000 [00:03<00:00, 659.61it/s]\n"
     ]
    }
   ],
   "source": [
    "family = pm.glm.families.Binomial()\n",
    "with pm.Model() as glm1:\n",
    "    pm.glm.GLM.from_formula(\n",
    "        'y ~ grp2', data=d_bin2,\n",
    "        priors=dict(Intercept=pm.Normal.dist(mu=0, sd=10),\n",
    "                    grp2=pm.Normal.dist(mu=0, sd=2.5)),\n",
    "        family=family,\n",
    "              )\n",
    "    trace = pm.sample(1000, tune=1000, cores=4)"
   ]
  },
  {
   "cell_type": "code",
   "execution_count": 11,
   "metadata": {},
   "outputs": [
    {
     "data": {
      "text/html": [
       "<div>\n",
       "<style scoped>\n",
       "    .dataframe tbody tr th:only-of-type {\n",
       "        vertical-align: middle;\n",
       "    }\n",
       "\n",
       "    .dataframe tbody tr th {\n",
       "        vertical-align: top;\n",
       "    }\n",
       "\n",
       "    .dataframe thead th {\n",
       "        text-align: right;\n",
       "    }\n",
       "</style>\n",
       "<table border=\"1\" class=\"dataframe\">\n",
       "  <thead>\n",
       "    <tr style=\"text-align: right;\">\n",
       "      <th></th>\n",
       "      <th>mean</th>\n",
       "      <th>sd</th>\n",
       "      <th>mc_error</th>\n",
       "      <th>hpd_2.5</th>\n",
       "      <th>hpd_97.5</th>\n",
       "      <th>n_eff</th>\n",
       "      <th>Rhat</th>\n",
       "    </tr>\n",
       "  </thead>\n",
       "  <tbody>\n",
       "    <tr>\n",
       "      <th>Intercept</th>\n",
       "      <td>-2.798223</td>\n",
       "      <td>0.163412</td>\n",
       "      <td>0.004022</td>\n",
       "      <td>-3.124098</td>\n",
       "      <td>-2.487724</td>\n",
       "      <td>1784.165168</td>\n",
       "      <td>1.002538</td>\n",
       "    </tr>\n",
       "    <tr>\n",
       "      <th>grp2</th>\n",
       "      <td>-0.617690</td>\n",
       "      <td>0.269098</td>\n",
       "      <td>0.005695</td>\n",
       "      <td>-1.176816</td>\n",
       "      <td>-0.123398</td>\n",
       "      <td>1852.783153</td>\n",
       "      <td>1.000293</td>\n",
       "    </tr>\n",
       "  </tbody>\n",
       "</table>\n",
       "</div>"
      ],
      "text/plain": [
       "               mean        sd  mc_error   hpd_2.5  hpd_97.5        n_eff  \\\n",
       "Intercept -2.798223  0.163412  0.004022 -3.124098 -2.487724  1784.165168   \n",
       "grp2      -0.617690  0.269098  0.005695 -1.176816 -0.123398  1852.783153   \n",
       "\n",
       "               Rhat  \n",
       "Intercept  1.002538  \n",
       "grp2       1.000293  "
      ]
     },
     "execution_count": 11,
     "metadata": {},
     "output_type": "execute_result"
    }
   ],
   "source": [
    "pm.summary(trace)"
   ]
  },
  {
   "cell_type": "code",
   "execution_count": 12,
   "metadata": {},
   "outputs": [
    {
     "name": "stderr",
     "output_type": "stream",
     "text": [
      "Auto-assigning NUTS sampler...\n",
      "Initializing NUTS using jitter+adapt_diag...\n",
      "Multiprocess sampling (4 chains in 4 jobs)\n",
      "NUTS: [Intercept]\n",
      "100%|██████████| 2000/2000 [00:01<00:00, 1253.00it/s]\n"
     ]
    }
   ],
   "source": [
    "with pm.Model() as glm0:\n",
    "    pm.glm.GLM.from_formula(\n",
    "        'y ~ 1', data=d_bin2,\n",
    "        priors=dict(Intercept=pm.Normal.dist(mu=0, sd=10)),\n",
    "        family=family,\n",
    "              )\n",
    "    trace0 = pm.sample(1000, tune=1000, cores=4)"
   ]
  },
  {
   "cell_type": "code",
   "execution_count": 13,
   "metadata": {},
   "outputs": [
    {
     "data": {
      "text/plain": [
       "LOO_r(LOO=496.1342336658798, LOO_se=46.639147105268464, p_LOO=1.957121359001377, shape_warn=0)"
      ]
     },
     "execution_count": 13,
     "metadata": {},
     "output_type": "execute_result"
    }
   ],
   "source": [
    "pm.loo(trace, model=glm1)"
   ]
  },
  {
   "cell_type": "code",
   "execution_count": 14,
   "metadata": {},
   "outputs": [
    {
     "data": {
      "text/plain": [
       "LOO_r(LOO=499.4381345550237, LOO_se=46.88143558540406, p_LOO=1.017570318037798, shape_warn=0)"
      ]
     },
     "execution_count": 14,
     "metadata": {},
     "output_type": "execute_result"
    }
   ],
   "source": [
    "pm.loo(trace0, model=glm0)"
   ]
  },
  {
   "cell_type": "code",
   "execution_count": 15,
   "metadata": {},
   "outputs": [
    {
     "data": {
      "text/html": [
       "<div>\n",
       "<style scoped>\n",
       "    .dataframe tbody tr th:only-of-type {\n",
       "        vertical-align: middle;\n",
       "    }\n",
       "\n",
       "    .dataframe tbody tr th {\n",
       "        vertical-align: top;\n",
       "    }\n",
       "\n",
       "    .dataframe thead th {\n",
       "        text-align: right;\n",
       "    }\n",
       "</style>\n",
       "<table border=\"1\" class=\"dataframe\">\n",
       "  <thead>\n",
       "    <tr style=\"text-align: right;\">\n",
       "      <th></th>\n",
       "      <th>LOO</th>\n",
       "      <th>pLOO</th>\n",
       "      <th>dLOO</th>\n",
       "      <th>weight</th>\n",
       "      <th>SE</th>\n",
       "      <th>dSE</th>\n",
       "      <th>shape_warn</th>\n",
       "    </tr>\n",
       "  </thead>\n",
       "  <tbody>\n",
       "    <tr>\n",
       "      <th>0</th>\n",
       "      <td>496.13</td>\n",
       "      <td>1.96</td>\n",
       "      <td>0</td>\n",
       "      <td>0.81</td>\n",
       "      <td>46.64</td>\n",
       "      <td>0</td>\n",
       "      <td>0</td>\n",
       "    </tr>\n",
       "    <tr>\n",
       "      <th>1</th>\n",
       "      <td>499.44</td>\n",
       "      <td>1.02</td>\n",
       "      <td>3.3</td>\n",
       "      <td>0.19</td>\n",
       "      <td>46.88</td>\n",
       "      <td>4.63</td>\n",
       "      <td>0</td>\n",
       "    </tr>\n",
       "  </tbody>\n",
       "</table>\n",
       "</div>"
      ],
      "text/plain": [
       "      LOO  pLOO dLOO weight     SE   dSE shape_warn\n",
       "0  496.13  1.96    0   0.81  46.64     0          0\n",
       "1  499.44  1.02  3.3   0.19  46.88  4.63          0"
      ]
     },
     "execution_count": 15,
     "metadata": {},
     "output_type": "execute_result"
    }
   ],
   "source": [
    "pm.compare(traces=[trace, trace0],\n",
    "           models=[glm1, glm0],\n",
    "           ic='LOO'\n",
    "        )"
   ]
  },
  {
   "cell_type": "markdown",
   "metadata": {},
   "source": [
    "The loo function in PyMC3 doesnt provides all the information necessary, use new functions instead:"
   ]
  },
  {
   "cell_type": "code",
   "execution_count": 16,
   "metadata": {},
   "outputs": [
    {
     "name": "stdout",
     "output_type": "stream",
     "text": [
      "Computed from 4000 by 1354 log-likelihood matrix\n"
     ]
    },
    {
     "data": {
      "text/html": [
       "<div>\n",
       "<style scoped>\n",
       "    .dataframe tbody tr th:only-of-type {\n",
       "        vertical-align: middle;\n",
       "    }\n",
       "\n",
       "    .dataframe tbody tr th {\n",
       "        vertical-align: top;\n",
       "    }\n",
       "\n",
       "    .dataframe thead th {\n",
       "        text-align: right;\n",
       "    }\n",
       "</style>\n",
       "<table border=\"1\" class=\"dataframe\">\n",
       "  <thead>\n",
       "    <tr style=\"text-align: right;\">\n",
       "      <th></th>\n",
       "      <th>Estimate</th>\n",
       "      <th>SE</th>\n",
       "    </tr>\n",
       "  </thead>\n",
       "  <tbody>\n",
       "    <tr>\n",
       "      <th>elpd_loo</th>\n",
       "      <td>-248.1</td>\n",
       "      <td>23.3</td>\n",
       "    </tr>\n",
       "    <tr>\n",
       "      <th>p_loo</th>\n",
       "      <td>2.0</td>\n",
       "      <td>0.2</td>\n",
       "    </tr>\n",
       "    <tr>\n",
       "      <th>looic</th>\n",
       "      <td>496.1</td>\n",
       "      <td>46.6</td>\n",
       "    </tr>\n",
       "  </tbody>\n",
       "</table>\n",
       "</div>"
      ],
      "text/plain": [
       "          Estimate    SE\n",
       "elpd_loo    -248.1  23.3\n",
       "p_loo          2.0   0.2\n",
       "looic        496.1  46.6"
      ]
     },
     "execution_count": 16,
     "metadata": {},
     "output_type": "execute_result"
    }
   ],
   "source": [
    "import loo\n",
    "df_loo, pointwise = loo.loo(trace, model=glm1)\n",
    "df_loo.round(1)"
   ]
  },
  {
   "cell_type": "code",
   "execution_count": 17,
   "metadata": {},
   "outputs": [
    {
     "data": {
      "text/plain": [
       "{'elpd_loo': array([-2.86995341, -2.86995341, -2.86995341, ..., -0.03304082,\n",
       "        -0.03304082, -0.03304082]),\n",
       " 'ks': array([-0.27917552, -0.27917552, -0.27917552, ..., -0.17828405,\n",
       "        -0.17828405, -0.17828405]),\n",
       " 'looic': array([5.73990683, 5.73990683, 5.73990683, ..., 0.06608163, 0.06608163,\n",
       "        0.06608163]),\n",
       " 'p_loo': array([2.36922097e-02, 2.36922097e-02, 2.36922097e-02, ...,\n",
       "        4.66541616e-05, 4.66541616e-05, 4.66541616e-05])}"
      ]
     },
     "execution_count": 17,
     "metadata": {},
     "output_type": "execute_result"
    }
   ],
   "source": [
    "pointwise"
   ]
  },
  {
   "cell_type": "code",
   "execution_count": 18,
   "metadata": {},
   "outputs": [
    {
     "name": "stdout",
     "output_type": "stream",
     "text": [
      "All Pareto k estimates are good (k < 0.5)\n"
     ]
    }
   ],
   "source": [
    "df_k = loo.ks_summary(pointwise['ks'])"
   ]
  },
  {
   "cell_type": "code",
   "execution_count": 19,
   "metadata": {},
   "outputs": [
    {
     "name": "stdout",
     "output_type": "stream",
     "text": [
      "Computed from 4000 by 1354 log-likelihood matrix\n"
     ]
    },
    {
     "data": {
      "text/html": [
       "<div>\n",
       "<style scoped>\n",
       "    .dataframe tbody tr th:only-of-type {\n",
       "        vertical-align: middle;\n",
       "    }\n",
       "\n",
       "    .dataframe tbody tr th {\n",
       "        vertical-align: top;\n",
       "    }\n",
       "\n",
       "    .dataframe thead th {\n",
       "        text-align: right;\n",
       "    }\n",
       "</style>\n",
       "<table border=\"1\" class=\"dataframe\">\n",
       "  <thead>\n",
       "    <tr style=\"text-align: right;\">\n",
       "      <th></th>\n",
       "      <th>Estimate</th>\n",
       "      <th>SE</th>\n",
       "    </tr>\n",
       "  </thead>\n",
       "  <tbody>\n",
       "    <tr>\n",
       "      <th>elpd_loo</th>\n",
       "      <td>-249.7</td>\n",
       "      <td>23.4</td>\n",
       "    </tr>\n",
       "    <tr>\n",
       "      <th>p_loo</th>\n",
       "      <td>1.0</td>\n",
       "      <td>0.1</td>\n",
       "    </tr>\n",
       "    <tr>\n",
       "      <th>looic</th>\n",
       "      <td>499.4</td>\n",
       "      <td>46.9</td>\n",
       "    </tr>\n",
       "  </tbody>\n",
       "</table>\n",
       "</div>"
      ],
      "text/plain": [
       "          Estimate    SE\n",
       "elpd_loo    -249.7  23.4\n",
       "p_loo          1.0   0.1\n",
       "looic        499.4  46.9"
      ]
     },
     "execution_count": 19,
     "metadata": {},
     "output_type": "execute_result"
    }
   ],
   "source": [
    "df_loo0, pointwise0 = loo.loo(trace0, model=glm0)\n",
    "df_loo0.round(1)"
   ]
  },
  {
   "cell_type": "code",
   "execution_count": 20,
   "metadata": {},
   "outputs": [
    {
     "name": "stdout",
     "output_type": "stream",
     "text": [
      "All Pareto k estimates are good (k < 0.5)\n"
     ]
    }
   ],
   "source": [
    "df_k0 = loo.ks_summary(pointwise0['ks'])"
   ]
  },
  {
   "cell_type": "markdown",
   "metadata": {},
   "source": [
    "All k<0.5 and we can trust PSIS-LOO result.\n",
    "\n",
    "Now make pairwise comparison."
   ]
  },
  {
   "cell_type": "code",
   "execution_count": 21,
   "metadata": {},
   "outputs": [
    {
     "data": {
      "text/html": [
       "<div>\n",
       "<style scoped>\n",
       "    .dataframe tbody tr th:only-of-type {\n",
       "        vertical-align: middle;\n",
       "    }\n",
       "\n",
       "    .dataframe tbody tr th {\n",
       "        vertical-align: top;\n",
       "    }\n",
       "\n",
       "    .dataframe thead th {\n",
       "        text-align: right;\n",
       "    }\n",
       "</style>\n",
       "<table border=\"1\" class=\"dataframe\">\n",
       "  <thead>\n",
       "    <tr style=\"text-align: right;\">\n",
       "      <th></th>\n",
       "      <th>elpd_diff</th>\n",
       "      <th>se</th>\n",
       "    </tr>\n",
       "  </thead>\n",
       "  <tbody>\n",
       "    <tr>\n",
       "      <th>m1-m0</th>\n",
       "      <td>-1.7</td>\n",
       "      <td>2.3</td>\n",
       "    </tr>\n",
       "  </tbody>\n",
       "</table>\n",
       "</div>"
      ],
      "text/plain": [
       "       elpd_diff   se\n",
       "m1-m0       -1.7  2.3"
      ]
     },
     "execution_count": 21,
     "metadata": {},
     "output_type": "execute_result"
    }
   ],
   "source": [
    "comp = loo.compare([pointwise, pointwise0])\n",
    "comp.round(1)"
   ]
  },
  {
   "cell_type": "markdown",
   "metadata": {},
   "source": [
    "> `elpd_diff` is small compared to se, and thus cross-validation is uncertain whether would be significant improvement in predictive performance! To put this in persepective, we have N1=674 and N2=680, and 5.8% and 3.2% deaths, and this is now too weak information for cross-validation.\n",
    "\n",
    "Simulation study similar to `binom_odds_comparison.R`"
   ]
  },
  {
   "cell_type": "code",
   "execution_count": null,
   "metadata": {},
   "outputs": [],
   "source": []
  }
 ],
 "metadata": {
  "kernelspec": {
   "display_name": "Python 3",
   "language": "python",
   "name": "python3"
  },
  "language_info": {
   "codemirror_mode": {
    "name": "ipython",
    "version": 3
   },
   "file_extension": ".py",
   "mimetype": "text/x-python",
   "name": "python",
   "nbconvert_exporter": "python",
   "pygments_lexer": "ipython3",
   "version": "3.5.2"
  }
 },
 "nbformat": 4,
 "nbformat_minor": 2
}
